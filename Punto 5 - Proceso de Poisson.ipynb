{
 "cells": [
  {
   "cell_type": "markdown",
   "metadata": {},
   "source": [
    "#### Proceso de Poisson\n",
    "\n",
    "Se nos pide simular la ocurrencia de eventos (V. A. N) en un proceso de Poisson con una tasa de $\\lambda$ = 5/hora. Como sortear una variable de una distribución de Poisson es dificil, podemos utilizar la relación que existe entre el tiempo entre eventos sucesivos con la distribución exponencial y sortear los saltos entre eventos, que resulta se rmás facil que la primera opción.\n",
    "\n",
    "El tiempo entre eventos siguen una distribución exponencial de la forma $P_x$(t) = $\\lambda$ exp(-$\\lambda$ t). Utilizamos el método de la función inversa para construir la inversa de la función distribución acumulada de la  exponencial y así sortear los saltos.\n",
    "\n",
    "La acumulada se puede calcular integrando $\\lambda$ exp(-$\\lambda$x) entre 0 y t:\n",
    "\n",
    "$CDF = P(X<=t) = \\int_0^t \\lambda exp(-\\lambda x) dx = 1 - exp(-\\lambda t)$\n",
    "\n",
    "La función inversa se obtiene igualando a t la expresión anterior:\n",
    "\n",
    "$F_x^{-1}(t) = -\\frac{ln(1-t)}{\\lambda}$\n",
    "\n",
    "Por último, vamos a generar U ~ Uniforme(0,1) para dárselos a la función inversa, y de esa forma generar los X que buscamos:\n",
    "\n",
    "$X = F_x^{-1} = -\\frac{ln(1-U)}{\\lambda}$"
   ]
  },
  {
   "cell_type": "code",
   "execution_count": 4,
   "metadata": {},
   "outputs": [],
   "source": [
    "from random import random\n",
    "import matplotlib.pyplot as plt\n",
    "import numpy as np"
   ]
  },
  {
   "cell_type": "code",
   "execution_count": 27,
   "metadata": {},
   "outputs": [],
   "source": [
    "#calculamos los primeros 100 saltos entre eventos\n",
    "\n",
    "l = 5\n",
    "m = 1e3\n",
    "m = int(m)\n",
    "\n",
    "#también podemos ir sumando los intervalos de tiempo entre un evento y el siguiente\n",
    "intervalo_tiempo = 0\n",
    "\n",
    "#voy a ir contando el número de eventos que ocurren hasta que t=3 hs\n",
    "N = 0\n",
    "\n",
    "#para hacer el histograma voy a ir guardando cada N\n",
    "lista_N = []\n",
    "numero_experimento = 1e4\n",
    "numero_experimento = int(numero_experimento)\n",
    "\n",
    "for p in range(numero_experimento):\n",
    "    \n",
    "    N = 0                 #para que cada vez que repita el experimento se olvide de los viejos valores antes calculados\n",
    "    intervalo_tiempo = 0\n",
    "    \n",
    "    for i in range(m):\n",
    "        U = random()\n",
    "        X = -np.log(1-U)/l\n",
    "\n",
    "        intervalo_tiempo = intervalo_tiempo + X\n",
    "        N = N + 1\n",
    "\n",
    "        if intervalo_tiempo > 3 :\n",
    "            break  \n",
    "\n",
    "       # print(N,intervalo_tiempo)\n",
    "\n",
    "    lista_N.append(N)"
   ]
  },
  {
   "cell_type": "code",
   "execution_count": 29,
   "metadata": {},
   "outputs": [
    {
     "data": {
      "text/plain": [
       "Text(0, 0.5, 'Conteos')"
      ]
     },
     "execution_count": 29,
     "metadata": {},
     "output_type": "execute_result"
    },
    {
     "data": {
      "image/png": "[encoded data removed]",
      "text/plain": [
       "<Figure size 432x288 with 1 Axes>"
      ]
     },
     "metadata": {
      "needs_background": "light"
     },
     "output_type": "display_data"
    }
   ],
   "source": [
    "plt.hist(lista_N, bins = 31)\n",
    "plt.xlabel('Número de eventos que ocurren entre 0 y 3 hs')\n",
    "plt.ylabel('Conteos')\n",
    "    "
   ]
  },
  {
   "cell_type": "code",
   "execution_count": null,
   "metadata": {},
   "outputs": [],
   "source": []
  }
 ],
 "metadata": {
  "kernelspec": {
   "display_name": "Python 3",
   "language": "python",
   "name": "python3"
  },
  "language_info": {
   "codemirror_mode": {
    "name": "ipython",
    "version": 3
   },
   "file_extension": ".py",
   "mimetype": "text/x-python",
   "name": "python",
   "nbconvert_exporter": "python",
   "pygments_lexer": "ipython3",
   "version": "3.8.3"
  }
 },
 "nbformat": 4,
 "nbformat_minor": 4
}

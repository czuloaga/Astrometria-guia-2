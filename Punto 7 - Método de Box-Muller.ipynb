{
 "cells": [
  {
   "cell_type": "markdown",
   "metadata": {},
   "source": [
    "### Método de Box-Muller\n",
    "(p 445-446 del libro A First Course in Probability - Sheldon Ross)\n",
    "\n",
    "\n",
    "El método de Box Muller es utilizado para generar números aleatorios normales, indepedientes y estándares usando una fuente de números aleatorios con distirbución uniformes. Existen dos formas de generar este tipo de números, una de ellas es la forma básica, en la que simplemente se sigue con el desarrollo que se explicará a continuación, y la otra es con el método polar, que se explicará a medida que desarrollemos el código. La diferencia con la formulación básica es que el método polar busca generar estas variables dentro de un círculo de radio unidad y con ello mejorar la efictividad del método.\n",
    "\n",
    "Se parte de dos variables X Y con características como las que buscamos, y definimos dos variables nuevas $R^2$ y $tan(\\theta)$ de la siguiente forma:\n",
    "\n",
    "<center> \n",
    "$R^2=X^2+Y^2$\n",
    "</center>\n",
    "\n",
    "<center> \n",
    "$tan(\\theta)=\\frac{Y}{X}$\n",
    "</center>\n",
    "\n",
    "Como las variables X Y son independientes, entonces la función probabilidad conjunta $f(X,Y)$ satifase que\n",
    "\n",
    "\n",
    "<center>\n",
    "$f(X,Y)=f(X)f(Y)$\n",
    "</center>\n",
    "\n",
    "Es decir que \n",
    "\n",
    "<center>\n",
    "$f(X,Y)=\\frac{1}{\\sqrt{2\\pi}}exp(\\frac{-X^2}{2})\\frac{1}{\\sqrt{2\\pi}}exp(\\frac{-Y^2}{2})=\\frac{1}{2\\pi}exp(\\frac{-R^2}{2})$\n",
    "</center>\n",
    "\n",
    "Usando el teorema de cambio de variables se puede calcular la función distribución de probabilidad conjunta de $R^2$ y $\\theta$\n",
    "\n",
    "<center>\n",
    "$f(R^2,\\theta)=\\frac{1}{2}\\frac{1}{2\\pi}exp(\\frac{-R^2}{2})$\n",
    "</center>\n",
    "\n",
    "Esta nueva función la podemos pensar como el producto de una districuón de probabilidad exponencial con media 2 y otra uniforme entre 0 y $2\\pi$. Entonces, sorteando $R^2$ y $\\theta$ y usando las relaciones inversas entre las variables, podemos generar las variables X Y que buscamos.\n",
    "\n",
    "Ahora bien, en el Proceso de Poisson vimos que se puede generar números aleatorios de unas distribución exponencial usando como fuente los de una distribución uniforme. Es así como, en definitiva, estaríamos generando pared de números aleatorios normales, estándares e independientes de solo sortear números con distribuciones uniformes.\n",
    "\n",
    "A diferencia de la formulación básica, el método polar busca generar estas variables dentro de un círculo de radio unidad y con ello mejorar la efictividad del método.\n",
    "\n",
    "\n",
    "\n",
    "\n",
    "\n",
    "\n",
    "\n"
   ]
  },
  {
   "cell_type": "code",
   "execution_count": 48,
   "metadata": {},
   "outputs": [],
   "source": [
    "from random import random\n",
    "import matplotlib.pyplot as plt\n",
    "import numpy as np\n",
    "import seaborn as sns\n",
    "from scipy import stats as st\n",
    "\n",
    "pi = 4*np.arctan(1)"
   ]
  },
  {
   "cell_type": "markdown",
   "metadata": {},
   "source": [
    "Veamos como es la formulación básica. Usamos el generador de números aleatorios con distribución exponencial que construimos en el proceso de poisson y construimos otro que genere aleatorios de una distribución uniforme."
   ]
  },
  {
   "cell_type": "code",
   "execution_count": 49,
   "metadata": {},
   "outputs": [],
   "source": [
    "m = 1e6\n",
    "m = int(m)\n",
    "\n",
    "lista_X = []\n",
    "lista_Y = []\n",
    "\n",
    "for i in range(m):\n",
    "    \n",
    "    U1 = random()   #U1 y U2 ahora son generador a partir de una disstribución uniforme entre 0 y 1\n",
    "    U2 = random()\n",
    "    \n",
    "    R = (-2*np.log(U1))**0.5\n",
    "    T = 2*pi*U2\n",
    "    \n",
    "    X = R*np.cos(T)\n",
    "    Y = R*np.sin(T)\n",
    "    \n",
    "    lista_X.append(X)\n",
    "    lista_Y.append(Y)"
   ]
  },
  {
   "cell_type": "markdown",
   "metadata": {},
   "source": [
    "Hacemos un histograma para la variable X"
   ]
  },
  {
   "cell_type": "code",
   "execution_count": 50,
   "metadata": {},
   "outputs": [
    {
     "data": {
      "text/plain": [
       "Text(0.5, 1.0, 'DIstribución normal estándar hecho con sorteo de varibales uniformes')"
      ]
     },
     "execution_count": 50,
     "metadata": {},
     "output_type": "execute_result"
    },
    {
     "data": {
      "image/png": "[encoded data removed]",
      "text/plain": [
       "<Figure size 432x288 with 1 Axes>"
      ]
     },
     "metadata": {
      "needs_background": "light"
     },
     "output_type": "display_data"
    }
   ],
   "source": [
    "plt.hist(lista_X, bins= 30)\n",
    "plt.xlabel('X')\n",
    "plt.ylabel('Cuentas')\n",
    "plt.title('DIstribución normal estándar hecho con sorteo de varibales uniformes')"
   ]
  },
  {
   "cell_type": "markdown",
   "metadata": {},
   "source": [
    "Veamos ahora la forma de generar X Y dentro de un circulo de radio unidad. Esto hará que el proceso sea más eficiente"
   ]
  },
  {
   "cell_type": "code",
   "execution_count": 51,
   "metadata": {},
   "outputs": [],
   "source": [
    "lista_X_nuevo = []\n",
    "lista_Y_nuevo = []\n",
    "\n",
    "for j in range(m):\n",
    "    \n",
    "    U1 = random()\n",
    "    U2 = random()\n",
    "    \n",
    "    V1=(2*U1)-1    #V1 y V2 ahora son dos variables con distribución uniforme de -1 a 1\n",
    "    V2=(2*U2)-1\n",
    "    \n",
    "    S = (V1*V1)+(V2*V2)\n",
    "    \n",
    "    if S <= 1:\n",
    "        \n",
    "#ahora nos queda definir R y tita nuevos\n",
    "#sabemos que cos(tita)=V1/R y sen(tita)=V2/R\n",
    "#si definimos a R=(S)**0.5 vemos que ahora R^2 es de distribución uniforme entre 0 y 1\n",
    "        \n",
    "        R_nuevo = (S)**0.5\n",
    "        cos_T = V1/(R_nuevo)\n",
    "        sen_T = V2/(R_nuevo)\n",
    "        \n",
    "        X_nuevo =  (((-2*np.log(S))**0.5))*cos_T\n",
    "        Y_nuevo =  (((-2*np.log(S))**0.5))*sen_T\n",
    "        \n",
    "        lista_X_nuevo.append(X_nuevo)\n",
    "        lista_Y_nuevo.append(Y_nuevo)\n"
   ]
  },
  {
   "cell_type": "code",
   "execution_count": 52,
   "metadata": {},
   "outputs": [
    {
     "data": {
      "text/plain": [
       "Text(0.5, 1.0, 'Distribución normal estándar hecho con método eficiente')"
      ]
     },
     "execution_count": 52,
     "metadata": {},
     "output_type": "execute_result"
    },
    {
     "data": {
      "image/png": "[encoded data removed]",
      "text/plain": [
       "<Figure size 432x288 with 1 Axes>"
      ]
     },
     "metadata": {
      "needs_background": "light"
     },
     "output_type": "display_data"
    }
   ],
   "source": [
    "plt.hist(lista_X_nuevo, bins = 'fd')\n",
    "plt.xlabel('X sorteado en un circulo de radio unidad')\n",
    "plt.ylabel('Conteos')\n",
    "plt.title('Distribución normal estándar hecho con método eficiente')"
   ]
  },
  {
   "cell_type": "code",
   "execution_count": 53,
   "metadata": {},
   "outputs": [
    {
     "data": {
      "text/plain": [
       "<seaborn.axisgrid.JointGrid at 0x7f0f95798070>"
      ]
     },
     "execution_count": 53,
     "metadata": {},
     "output_type": "execute_result"
    },
    {
     "data": {
      "image/png": "[encoded data removed]",
      "text/plain": [
       "<Figure size 432x432 with 3 Axes>"
      ]
     },
     "metadata": {
      "needs_background": "light"
     },
     "output_type": "display_data"
    }
   ],
   "source": [
    "sns.jointplot(lista_X_nuevo,lista_Y_nuevo)\n"
   ]
  },
  {
   "cell_type": "markdown",
   "metadata": {},
   "source": [
    "Comparemos la variable X calculada de la forma eficiente con una variable X normal estándar teórica"
   ]
  },
  {
   "cell_type": "code",
   "execution_count": 54,
   "metadata": {},
   "outputs": [
    {
     "data": {
      "text/plain": [
       "785664"
      ]
     },
     "execution_count": 54,
     "metadata": {},
     "output_type": "execute_result"
    }
   ],
   "source": [
    "lista_X_nuevo.sort()   #primero ordenamos los valores obtenidos de nuestro sorteo\n",
    "len(lista_X_nuevo)"
   ]
  },
  {
   "cell_type": "markdown",
   "metadata": {},
   "source": [
    "Ahora calculamos valores correspondientes a los de distribución normal estándar teórica usando los cuantiles  "
   ]
  },
  {
   "cell_type": "code",
   "execution_count": 55,
   "metadata": {},
   "outputs": [],
   "source": [
    "lista_X_teorico = []\n",
    "for i in range (len(lista_X_nuevo)):\n",
    "    X_teorico = st.norm.ppf((i+1)/(len(lista_X_nuevo)), loc = 0)\n",
    "    lista_X_teorico.append(X_teorico)"
   ]
  },
  {
   "cell_type": "code",
   "execution_count": 56,
   "metadata": {},
   "outputs": [
    {
     "data": {
      "text/plain": [
       "785664"
      ]
     },
     "execution_count": 56,
     "metadata": {},
     "output_type": "execute_result"
    }
   ],
   "source": [
    "len(lista_X_teorico)"
   ]
  },
  {
   "cell_type": "code",
   "execution_count": 57,
   "metadata": {},
   "outputs": [
    {
     "data": {
      "text/plain": [
       "Text(0.5, 1.0, 'Comparación entre la variable X teórica y la empirica calculada con la formulación básica')"
      ]
     },
     "execution_count": 57,
     "metadata": {},
     "output_type": "execute_result"
    },
    {
     "data": {
      "image/png": "[encoded data removed]",
      "text/plain": [
       "<Figure size 432x288 with 1 Axes>"
      ]
     },
     "metadata": {
      "needs_background": "light"
     },
     "output_type": "display_data"
    }
   ],
   "source": [
    "plt.plot(lista_X_nuevo, lista_X_teorico)\n",
    "plt.ylabel('X teórico')\n",
    "plt.xlabel('X empírico')\n",
    "plt.title('Comparación entre la variable X teórica y la empirica calculada con la formulación básica')"
   ]
  },
  {
   "cell_type": "markdown",
   "metadata": {},
   "source": [
    "Ahora comparemos la otra variable X calculada al principio (no de la forma eficiente) con la variable teórica"
   ]
  },
  {
   "cell_type": "code",
   "execution_count": 58,
   "metadata": {},
   "outputs": [
    {
     "data": {
      "text/plain": [
       "1000000"
      ]
     },
     "execution_count": 58,
     "metadata": {},
     "output_type": "execute_result"
    }
   ],
   "source": [
    "lista_X.sort()\n",
    "len(lista_X)"
   ]
  },
  {
   "cell_type": "code",
   "execution_count": 59,
   "metadata": {},
   "outputs": [],
   "source": [
    "lista2_X_teorico = []\n",
    "for i in range (len(lista_X)):\n",
    "    X2_teorico = st.norm.ppf((i+1)/len(lista_X), loc = 0)\n",
    "    lista2_X_teorico.append(X2_teorico)"
   ]
  },
  {
   "cell_type": "code",
   "execution_count": 60,
   "metadata": {},
   "outputs": [
    {
     "data": {
      "text/plain": [
       "Text(0.5, 1.0, 'Comparación entre la variable X teórica y la empírica calculada con la forma eficiente')"
      ]
     },
     "execution_count": 60,
     "metadata": {},
     "output_type": "execute_result"
    },
    {
     "data": {
      "image/png": "[encoded data removed]",
      "text/plain": [
       "<Figure size 432x288 with 1 Axes>"
      ]
     },
     "metadata": {
      "needs_background": "light"
     },
     "output_type": "display_data"
    }
   ],
   "source": [
    "plt.plot(lista_X, lista2_X_teorico)\n",
    "plt.xlabel('X Empírico')\n",
    "plt.ylabel('Y Teórico')\n",
    "plt.title('Comparación entre la variable X teórica y la empírica calculada con la forma eficiente')\n"
   ]
  },
  {
   "cell_type": "markdown",
   "metadata": {},
   "source": [
    "Vemos que las comparaciones nos muestran que la relación entre las variables empíricas X y la teórica es practicamente lineal, lo que nos indica que son buenos generadores.\n",
    "\n",
    "Analicemos entonces por último el tiempo de generación de números aleatorios de cada uno."
   ]
  },
  {
   "cell_type": "code",
   "execution_count": 67,
   "metadata": {},
   "outputs": [
    {
     "name": "stdout",
     "output_type": "stream",
     "text": [
      "CPU times: user 3 µs, sys: 0 ns, total: 3 µs\n",
      "Wall time: 6.2 µs\n"
     ]
    }
   ],
   "source": [
    "%time X_nuevos = lista_X_nuevo       #son la lista de variables X generadas con el método eficiente"
   ]
  },
  {
   "cell_type": "code",
   "execution_count": 68,
   "metadata": {},
   "outputs": [
    {
     "name": "stdout",
     "output_type": "stream",
     "text": [
      "CPU times: user 6 µs, sys: 0 ns, total: 6 µs\n",
      "Wall time: 10 µs\n"
     ]
    }
   ],
   "source": [
    "%time X = lista_X                   #es la lista de variables X generadas con el método básico"
   ]
  },
  {
   "cell_type": "markdown",
   "metadata": {},
   "source": [
    "Vemos que la diferencia no es mucha pero alcanza para darnos cuenta que la generación de variables con el método eficiente es más rápida que la generación con el método tradicional. "
   ]
  },
  {
   "cell_type": "code",
   "execution_count": null,
   "metadata": {},
   "outputs": [],
   "source": []
  }
 ],
 "metadata": {
  "kernelspec": {
   "display_name": "Python 3",
   "language": "python",
   "name": "python3"
  },
  "language_info": {
   "codemirror_mode": {
    "name": "ipython",
    "version": 3
   },
   "file_extension": ".py",
   "mimetype": "text/x-python",
   "name": "python",
   "nbconvert_exporter": "python",
   "pygments_lexer": "ipython3",
   "version": "3.8.3"
  }
 },
 "nbformat": 4,
 "nbformat_minor": 4
}

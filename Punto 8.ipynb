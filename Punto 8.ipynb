{
 "cells": [
  {
   "cell_type": "markdown",
   "metadata": {},
   "source": [
    "### Experimento de Buffon\n",
    "\n",
    "##### Inciso a\n",
    "\n",
    "Queremos sabes cual es la probabilidad de que la aguja caiga con parámetros tita y x. Sabemos que por ser dos variables independientes (el resultado de x no condiciona al resultado de tita en principio, ninguno está atado al otro) y que el rango de valores posibles para x son (o, t/2) y de tita (0, pi), entonces la probabilidad que buscamos es el producto de las probabilidades de que la aguja tenga caiga con longitud x y la de que subtienda un angulo tita son 2/t y 1/pi respectivamente (las probabilidades son uniformes ya que no hay condición que haga que un tipo de resultado sea más frecuente que otro para ambos casos), es decir que f(x, tita) = 2/ (t*pi).\n",
    "\n",
    "##### Inciso b\n",
    "\n",
    "Teniendo la función de probabilidad en función de x y tita, podemos calcular cuál es la probabilidad de que tal evento ocurra. Por definición, lo que buscamos es el área bajo la curva de la función distribución de probabilidad entre un rango de valores que dependerán de tita y x. Para saber cuales son esos valores, debemos preguntarnos bajo qué condición la aguja podría tocar a la raya. Eso lo podemos inferir del gráfico dentro del enunciado del ejercicio: resulta claro que el caso límite ocurre cuando sen(tita)*(l/2)= x.\n",
    "\n",
    "Para saber la probabilidad de que la aguja toque la raya debemos integrar f(x, tita) entre (0, pi) en tita y entre (0, sen(tita)*(l/2)) en x. Esto se puede calcular manualmente, y nos da que es 2l/t*pi.\n",
    "\n",
    "\n",
    "#####  Inciso c\n",
    "\n",
    "\n",
    "\n"
   ]
  },
  {
   "cell_type": "code",
   "execution_count": 88,
   "metadata": {},
   "outputs": [],
   "source": [
    "from random import random\n",
    "import numpy as np\n",
    "import matplotlib.pyplot as plt\n",
    "pi = 4*np.arctan(1)\n"
   ]
  },
  {
   "cell_type": "markdown",
   "metadata": {},
   "source": [
    "Definimos algunos parámetros necesarios"
   ]
  },
  {
   "cell_type": "code",
   "execution_count": 89,
   "metadata": {},
   "outputs": [],
   "source": [
    "t=1\n",
    "l=1\n",
    "n=1e6   #número de agujas que voy a tirar\n",
    "\n",
    "n = int(n)"
   ]
  },
  {
   "cell_type": "markdown",
   "metadata": {},
   "source": [
    "Sorteo X y $\\theta$ entre 0 y $\\frac{t}{2}$ y 0 a $\\pi$, y creamos una aguja"
   ]
  },
  {
   "cell_type": "code",
   "execution_count": 90,
   "metadata": {},
   "outputs": [],
   "source": [
    "#sorteo x y tita entre 0 a t/2 y 0 a pi, y creamos una aguja\n",
    "x = random()*t/2\n",
    "tita = random()*pi"
   ]
  },
  {
   "cell_type": "code",
   "execution_count": 91,
   "metadata": {},
   "outputs": [
    {
     "name": "stdout",
     "output_type": "stream",
     "text": [
      "0.15341708635726248\n"
     ]
    }
   ],
   "source": [
    "#sortiemos una aguja para ver si cruza o no la línea\n",
    "if x <= np.sin(tita)*(l/2):\n",
    "    print(x)"
   ]
  },
  {
   "cell_type": "code",
   "execution_count": 92,
   "metadata": {},
   "outputs": [
    {
     "data": {
      "text/plain": [
       "636451"
      ]
     },
     "execution_count": 92,
     "metadata": {},
     "output_type": "execute_result"
    }
   ],
   "source": [
    "d = 0\n",
    "pi1_lista =[]\n",
    "aguja_lista = []\n",
    "\n",
    "for i in range(n):\n",
    "    x1 = random()*t/2    #creamos nuevas agujas para hacer las iteraciones\n",
    "    tita1 = random()*pi\n",
    "    \n",
    "    if x1 <= np.sin(tita1)*(l/2):\n",
    "        d = d + 1\n",
    "    if d != 0:\n",
    "        pi1 = (2*n)/d\n",
    "        pi1_lista.append(pi1)\n",
    "        aguja_lista.append(i+1)\n",
    "    \n",
    "   \n",
    "d"
   ]
  },
  {
   "cell_type": "code",
   "execution_count": 93,
   "metadata": {},
   "outputs": [
    {
     "name": "stdout",
     "output_type": "stream",
     "text": [
      "0.636451\n"
     ]
    }
   ],
   "source": [
    "print(d/n)"
   ]
  },
  {
   "cell_type": "code",
   "execution_count": 94,
   "metadata": {},
   "outputs": [
    {
     "name": "stdout",
     "output_type": "stream",
     "text": [
      "3.14242573269584\n",
      "3.141592653589793\n"
     ]
    }
   ],
   "source": [
    "# veamos de estimar pi: sé que la probabilidad de que toque la aguja es f = 2l/(t*pi), y como en este caso t = l\n",
    "# f = 2/pi\n",
    "# pero d/n nos da la probabilidad clásica de que este evento ocurra, por lo que tenemos d/n = 2 / pi\n",
    "# pi = (2*n)/d\n",
    "pi1 = (2*n)/d\n",
    "print(pi1)\n",
    "print(pi)"
   ]
  },
  {
   "cell_type": "code",
   "execution_count": 134,
   "metadata": {},
   "outputs": [
    {
     "data": {
      "text/plain": [
       "([<matplotlib.axis.YTick at 0x7feb63152670>,\n",
       "  <matplotlib.axis.YTick at 0x7feb631522e0>,\n",
       "  <matplotlib.axis.YTick at 0x7feb631f0d00>,\n",
       "  <matplotlib.axis.YTick at 0x7feb630f3f70>,\n",
       "  <matplotlib.axis.YTick at 0x7feb630fa4c0>,\n",
       "  <matplotlib.axis.YTick at 0x7feb630f3b50>,\n",
       "  <matplotlib.axis.YTick at 0x7feb630fa190>,\n",
       "  <matplotlib.axis.YTick at 0x7feb63151340>],\n",
       " [Text(0, 0, '2.0'),\n",
       "  Text(0, 0, '2.5'),\n",
       "  Text(0, 0, '3.0'),\n",
       "  Text(0, 0, '3.5'),\n",
       "  Text(0, 0, '4.0'),\n",
       "  Text(0, 0, '4.5'),\n",
       "  Text(0, 0, '5.0'),\n",
       "  Text(0, 0, '$\\\\pi$')])"
      ]
     },
     "execution_count": 134,
     "metadata": {},
     "output_type": "execute_result"
    },
    {
     "data": {
      "image/png": "[encoded data removed]",
      "text/plain": [
       "<Figure size 432x288 with 1 Axes>"
      ]
     },
     "metadata": {
      "needs_background": "light"
     },
     "output_type": "display_data"
    }
   ],
   "source": [
    "plt.plot(aguja_lista,pi1_lista)\n",
    "plt.ylim(2, 5)\n",
    "a,b=plt.xlim()\n",
    "plt.hlines(pi, a, b, linestyles = 'dashed',color='r',linewidth=1)\n",
    "plt.xlim(a,b)\n",
    "c=plt.yticks()\n",
    "c_str = [str(i) for i in c]\n",
    "plt.yticks(np.concatenate((c[0],[pi])),np.concatenate((c[0],['$\\pi$'])))"
   ]
  },
  {
   "cell_type": "code",
   "execution_count": 127,
   "metadata": {},
   "outputs": [
    {
     "data": {
      "text/plain": [
       "'[-200000.       0.  200000.  400000.  600000.  800000. 1000000. 1200000.]'"
      ]
     },
     "execution_count": 127,
     "metadata": {},
     "output_type": "execute_result"
    }
   ],
   "source": [
    "str(c[0])"
   ]
  },
  {
   "cell_type": "code",
   "execution_count": null,
   "metadata": {},
   "outputs": [],
   "source": []
  }
 ],
 "metadata": {
  "kernelspec": {
   "display_name": "Python 3",
   "language": "python",
   "name": "python3"
  },
  "language_info": {
   "codemirror_mode": {
    "name": "ipython",
    "version": 3
   },
   "file_extension": ".py",
   "mimetype": "text/x-python",
   "name": "python",
   "nbconvert_exporter": "python",
   "pygments_lexer": "ipython3",
   "version": "3.8.3"
  }
 },
 "nbformat": 4,
 "nbformat_minor": 4
}

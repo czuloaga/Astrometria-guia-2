{
 "cells": [
  {
   "cell_type": "markdown",
   "metadata": {},
   "source": [
    "### Remuestreo Bootstrap"
   ]
  },
  {
   "cell_type": "markdown",
   "metadata": {},
   "source": [
    "Para este ejercicio debemos diseñar una función que estime la varianza de una variable aleatoria a partir de una muestra de datos. Luego debemos implementar una función que utilice boostrap resampling para calcular los intervalos de confidencia del estimador de la varianza a un nivel de significancia dado $\\alpha$.\n",
    "\n",
    "Como muestra tenemos los datos de las magnitudes de un cúmulo en un archivo .dat, por lo que vamos a comenzar cargandolo a nuestro notebook."
   ]
  },
  {
   "cell_type": "code",
   "execution_count": 27,
   "metadata": {},
   "outputs": [],
   "source": [
    "import numpy as np\n",
    "import matplotlib.pyplot as plt\n",
    "from scipy import stats as st"
   ]
  },
  {
   "cell_type": "code",
   "execution_count": 2,
   "metadata": {},
   "outputs": [],
   "source": [
    "data = np.genfromtxt('cumulos_globulares.dat', usecols=6)"
   ]
  },
  {
   "cell_type": "code",
   "execution_count": 3,
   "metadata": {},
   "outputs": [],
   "source": [
    "data = data[~np.isnan(data)]      #solo usaremos los datos numéricos"
   ]
  },
  {
   "cell_type": "markdown",
   "metadata": {},
   "source": [
    "Calculamos la varianza muestral, usando que:\n",
    "\n",
    "<center>\n",
    "$\\bar{x_j} = \\sum_{i=1}^{j} \\frac{x_i}{j}$\n",
    "</center>\n",
    "y\n",
    "\n",
    "<center>\n",
    "$s_j^2 = \\frac{1}{n-1} \\sum_{i=1}^{j} (x_i -\\bar{x_j})^2 $\n",
    "</center>\n",
    "\n",
    "donde $\\bar{x_j}$ es la media muestral y $s_j^2$ es la varianza muestral\n",
    "\n",
    "Calculamos la media muestral usando el paquete de NumPy"
   ]
  },
  {
   "cell_type": "code",
   "execution_count": 4,
   "metadata": {},
   "outputs": [
    {
     "name": "stdout",
     "output_type": "stream",
     "text": [
      "-7.027027027027027\n"
     ]
    }
   ],
   "source": [
    "media = np.mean(data)\n",
    "print(media)"
   ]
  },
  {
   "cell_type": "code",
   "execution_count": 5,
   "metadata": {},
   "outputs": [],
   "source": [
    "n = (1/(len(data)-1))   #calculamos el factor 1/(n-1)\n",
    "suma = 0\n",
    "\n",
    "def varianza(n,data):\n",
    "    for i in range(len(data)):\n",
    "        d = (data[i]-media)**2\n",
    "        global suma\n",
    "        suma = suma + d\n",
    "    varianza=n*suma\n",
    "    return(varianza)\n"
   ]
  },
  {
   "cell_type": "code",
   "execution_count": 6,
   "metadata": {},
   "outputs": [
    {
     "data": {
      "text/plain": [
       "2.225189740761169"
      ]
     },
     "execution_count": 6,
     "metadata": {},
     "output_type": "execute_result"
    }
   ],
   "source": [
    "varianza(n,data)"
   ]
  },
  {
   "cell_type": "markdown",
   "metadata": {},
   "source": [
    "Ahora generamos los remuestreos con la lista data, calculamos las varianzas de cada lista y hacemos un histograma"
   ]
  },
  {
   "cell_type": "code",
   "execution_count": 23,
   "metadata": {},
   "outputs": [],
   "source": [
    "m = 1e4\n",
    "m = int(m)\n",
    "lista_v = []\n",
    "suma = 0\n",
    "\n",
    "def varianza(n,lista,media_v):\n",
    "    for i in range(len(lista)):\n",
    "        d = (lista[i]-media_v)**2\n",
    "        global suma\n",
    "        suma = suma + d\n",
    "    varianza=n*suma\n",
    "    return(varianza)\n",
    "\n",
    "for k in range(m):\n",
    "    \n",
    "    suma = 0\n",
    "    \n",
    "    lista = np.random.choice(data, replace= 'True',size=148)\n",
    "    \n",
    "    media_v = np.mean(lista)\n",
    "    \n",
    "    n = (1/(len(lista)-1))   \n",
    "        \n",
    "    lista_v.append(varianza(n,lista,media_v))"
   ]
  },
  {
   "cell_type": "code",
   "execution_count": 24,
   "metadata": {},
   "outputs": [
    {
     "data": {
      "text/plain": [
       "Text(0.5, 0, 'Varianza muestral')"
      ]
     },
     "execution_count": 24,
     "metadata": {},
     "output_type": "execute_result"
    },
    {
     "data": {
      "image/png": "[encoded data removed]",
      "text/plain": [
       "<Figure size 432x288 with 1 Axes>"
      ]
     },
     "metadata": {
      "needs_background": "light"
     },
     "output_type": "display_data"
    }
   ],
   "source": [
    "plt.hist(lista_v, bins = 30)\n",
    "plt.ylabel('Cuentas')\n",
    "plt.xlabel('Varianza muestral')"
   ]
  },
  {
   "cell_type": "markdown",
   "metadata": {},
   "source": [
    "Vemos que la distribución que se forma de calcular la varianza a cada remuestreo es similar a una distribución normal, que es justamente lo que esperamos por el Teorema del Límite Central. En este caso, se puede notar que la media cae muy cerca del valor que habíamos calculado como varianza de los datos."
   ]
  },
  {
   "cell_type": "markdown",
   "metadata": {},
   "source": [
    "Veamos ahora de definir una función que nos devuelva los límites de los intervalos de confianza para dado $\\alpha$ y una lista, que podrá ser la que contruimos con el remuestro Bootstrap"
   ]
  },
  {
   "cell_type": "code",
   "execution_count": 30,
   "metadata": {},
   "outputs": [],
   "source": [
    "lista_v.sort()"
   ]
  },
  {
   "cell_type": "code",
   "execution_count": 42,
   "metadata": {},
   "outputs": [],
   "source": [
    "def int_confianza(alpha,lista_v):\n",
    "    q1 = alpha/2\n",
    "    q2 = 1-(alpha/2)\n",
    "    \n",
    "    for i in range(len(lista_v)):\n",
    "        f = i/len(lista_v)\n",
    "        if f >= q1:\n",
    "            ic_izquierda = lista_v[i]\n",
    "            break \n",
    "            \n",
    "    for j in range(len(lista_v)):\n",
    "        g = j/len(lista_v)\n",
    "        if g >= q2:\n",
    "            ic_derecha = lista_v[j]\n",
    "            break\n",
    "    return(ic_izquierda, ic_derecha)    "
   ]
  },
  {
   "cell_type": "markdown",
   "metadata": {},
   "source": [
    "Veamos si funciona bien: Con una lista de 100 elemenos ordenados de menor a mayor, los límites deberán ser 25 (izquierda) y 75 (derecha)"
   ]
  },
  {
   "cell_type": "code",
   "execution_count": 1,
   "metadata": {},
   "outputs": [],
   "source": [
    "lista_ejemplo = range(100)"
   ]
  },
  {
   "cell_type": "code",
   "execution_count": 47,
   "metadata": {},
   "outputs": [
    {
     "data": {
      "text/plain": [
       "(25, 75)"
      ]
     },
     "execution_count": 47,
     "metadata": {},
     "output_type": "execute_result"
    }
   ],
   "source": [
    "int_confianza(0.5, lista_ejemplo)"
   ]
  },
  {
   "cell_type": "code",
   "execution_count": null,
   "metadata": {},
   "outputs": [],
   "source": []
  },
  {
   "cell_type": "code",
   "execution_count": null,
   "metadata": {},
   "outputs": [],
   "source": []
  }
 ],
 "metadata": {
  "kernelspec": {
   "display_name": "Python 3",
   "language": "python",
   "name": "python3"
  },
  "language_info": {
   "codemirror_mode": {
    "name": "ipython",
    "version": 3
   },
   "file_extension": ".py",
   "mimetype": "text/x-python",
   "name": "python",
   "nbconvert_exporter": "python",
   "pygments_lexer": "ipython3",
   "version": "3.8.3"
  }
 },
 "nbformat": 4,
 "nbformat_minor": 4
}
